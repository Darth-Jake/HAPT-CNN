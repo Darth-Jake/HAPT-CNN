{
 "cells": [
  {
   "cell_type": "code",
   "execution_count": 1,
   "metadata": {},
   "outputs": [],
   "source": [
    "%matplotlib inline"
   ]
  },
  {
   "cell_type": "code",
   "execution_count": 2,
   "metadata": {},
   "outputs": [],
   "source": [
    "import tensorflow as tf\n",
    "from tensorflow.keras import datasets, layers, models\n",
    "import matplotlib.pyplot as plt\n",
    "import numpy as np\n",
    "\n",
    "import os"
   ]
  },
  {
   "cell_type": "code",
   "execution_count": 4,
   "metadata": {},
   "outputs": [],
   "source": [
    "#load the data\n",
    "\n",
    "#activity labels as defined in activity_labels.txt\n",
    "#-1 placeholder bumps up the index to match activity_labels.txt\n",
    "activity_labels = ['-1_placeholder', 'WALKING', 'WALKING_UPSTAIRS', 'WALKING_DOWNSTAIRS', 'SITTING', 'STANDING', 'LAYING', 'STAND_TO_SIT', 'SIT_TO_STAND', 'SIT_TO_LIE', 'LIE_TO_SIT', 'STAND_TO_LIE', 'LIE_TO_STAND']\n",
    "\n",
    "def get_data( data_path ):\n",
    "    file = open(data_path)\n",
    "    lines = file.readlines()\n",
    "    data = []\n",
    "    for line in lines:\n",
    "        data.append(line.split())\n",
    "    return data\n",
    "\n",
    "def get_labels( path ):\n",
    "    file = open(path)\n",
    "    data = file.readlines()\n",
    "    return data\n",
    "    \n",
    "training_data = get_data('HAPT Data Set/Train/X_train.txt')\n",
    "training_labels = get_labels('HAPT Data Set/Train/y_train.txt')\n",
    "test_data = get_data('HAPT Data Set/Test/X_test.txt')\n",
    "test_labels = get_labels('HAPT Data Set/Test/y_test.txt')\n",
    "\n",
    "#test print\n",
    "#for i in range(3):\n",
    "#    print(f'{activity_labels[int(training_labels[i])]}: {training_data[i]}')"
   ]
  },
  {
   "cell_type": "code",
   "execution_count": null,
   "metadata": {},
   "outputs": [],
   "source": []
  }
 ],
 "metadata": {
  "kernelspec": {
   "display_name": "ecps205",
   "language": "python",
   "name": "ecps205"
  },
  "language_info": {
   "codemirror_mode": {
    "name": "ipython",
    "version": 3
   },
   "file_extension": ".py",
   "mimetype": "text/x-python",
   "name": "python",
   "nbconvert_exporter": "python",
   "pygments_lexer": "ipython3",
   "version": "3.7.9"
  }
 },
 "nbformat": 4,
 "nbformat_minor": 4
}
