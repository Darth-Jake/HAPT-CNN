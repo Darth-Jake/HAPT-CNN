{
 "cells": [
  {
   "cell_type": "code",
   "execution_count": 1,
   "metadata": {},
   "outputs": [],
   "source": [
    "#%matplotlib inline"
   ]
  },
  {
   "cell_type": "code",
   "execution_count": 2,
   "metadata": {},
   "outputs": [],
   "source": [
    "import tensorflow as tf\n",
    "from tensorflow.keras import layers, models, callbacks\n",
    "import matplotlib.pyplot as plt\n",
    "import numpy as np\n",
    "import pandas as pd\n",
    "\n",
    "import os\n",
    "import time\n",
    "import math"
   ]
  },
  {
   "cell_type": "code",
   "execution_count": 3,
   "metadata": {},
   "outputs": [],
   "source": [
    "#activity labels as defined in activity_labels.txt\n",
    "activity_labels = ['WALKING', 'WALKING_UPSTAIRS', 'WALKING_DOWNSTAIRS', 'SITTING', 'STANDING', 'LAYING', 'STAND_TO_SIT', 'SIT_TO_STAND', 'SIT_TO_LIE', 'LIE_TO_SIT', 'STAND_TO_LIE', 'LIE_TO_STAND']\n",
    "#activity_labels = {k:v for k,v in enumerate(activity_labels, start=1)}\n",
    "#print(activity_labels)"
   ]
  },
  {
   "cell_type": "code",
   "execution_count": 4,
   "metadata": {},
   "outputs": [
    {
     "name": "stdout",
     "output_type": "stream",
     "text": [
      "reshaping data...\n",
      "adjusting labels...\n"
     ]
    }
   ],
   "source": [
    "#load data\n",
    "def load_data(path):\n",
    "    data = pd.read_csv(path, header=None, delim_whitespace=True)\n",
    "    return data.values\n",
    "\n",
    "def load_set(path, x, y):\n",
    "    data = load_data(path+x)\n",
    "    labels = load_data(path+y)\n",
    "    return data, labels\n",
    "\n",
    "train_data, train_labels = load_set('HAPT Data Set/Train/', 'X_train.txt', 'y_train.txt')\n",
    "test_data, test_labels = load_set('HAPT Data Set/Test/', 'X_test.txt', 'y_test.txt')\n",
    "\n",
    "print('reshaping data...')\n",
    "\n",
    "#reshape the data to add a features dimension (features = 1)\n",
    "#https://stackoverflow.com/questions/43396572/dimension-of-shape-in-conv1d\n",
    "train_data = np.expand_dims(train_data, axis=2)\n",
    "test_data = np.expand_dims(test_data, axis=2)\n",
    "\n",
    "print('adjusting labels...')\n",
    "#reduce the labels by 1 to match with the activity_labels and also to start labels at 0 to 11 instead of from 1 to 12\n",
    "def adjust_labels (labels):\n",
    "    for i in range(len(labels)-1):\n",
    "        labels[i][0] -= 1\n",
    "\n",
    "adjust_labels(train_labels);\n",
    "adjust_labels(test_labels);"
   ]
  },
  {
   "cell_type": "code",
   "execution_count": 5,
   "metadata": {},
   "outputs": [],
   "source": [
    "#input shape\n",
    "timesteps = train_data.shape[1] #561 timesteps\n",
    "features = train_data.shape[2] #1 feature"
   ]
  },
  {
   "cell_type": "code",
   "execution_count": 6,
   "metadata": {},
   "outputs": [
    {
     "name": "stdout",
     "output_type": "stream",
     "text": [
      "Model: \"sequential\"\n",
      "_________________________________________________________________\n",
      "Layer (type)                 Output Shape              Param #   \n",
      "=================================================================\n",
      "conv1d (Conv1D)              (None, 559, 32)           128       \n",
      "_________________________________________________________________\n",
      "max_pooling1d (MaxPooling1D) (None, 279, 32)           0         \n",
      "_________________________________________________________________\n",
      "conv1d_1 (Conv1D)            (None, 277, 64)           6208      \n",
      "_________________________________________________________________\n",
      "max_pooling1d_1 (MaxPooling1 (None, 138, 64)           0         \n",
      "_________________________________________________________________\n",
      "conv1d_2 (Conv1D)            (None, 136, 128)          24704     \n",
      "_________________________________________________________________\n",
      "max_pooling1d_2 (MaxPooling1 (None, 68, 128)           0         \n",
      "_________________________________________________________________\n",
      "dropout (Dropout)            (None, 68, 128)           0         \n",
      "_________________________________________________________________\n",
      "flatten (Flatten)            (None, 8704)              0         \n",
      "_________________________________________________________________\n",
      "dense (Dense)                (None, 128)               1114240   \n",
      "_________________________________________________________________\n",
      "dense_1 (Dense)              (None, 64)                8256      \n",
      "_________________________________________________________________\n",
      "dense_2 (Dense)              (None, 32)                2080      \n",
      "_________________________________________________________________\n",
      "dense_3 (Dense)              (None, 12)                396       \n",
      "=================================================================\n",
      "Total params: 1,156,012\n",
      "Trainable params: 1,156,012\n",
      "Non-trainable params: 0\n",
      "_________________________________________________________________\n"
     ]
    }
   ],
   "source": [
    "model = models.Sequential()\n",
    "model.add(layers.Conv1D(filters=32, kernel_size=3, strides=1, activation='relu', input_shape=(timesteps,features)))\n",
    "model.add(layers.MaxPooling1D(pool_size=2))\n",
    "model.add(layers.Conv1D(filters=64, kernel_size=3, strides=1, activation='relu'))\n",
    "model.add(layers.MaxPooling1D(pool_size=2))\n",
    "model.add(layers.Conv1D(filters=128, kernel_size=3, strides=1, activation='relu'))\n",
    "model.add(layers.MaxPooling1D(pool_size=2))\n",
    "model.add(layers.Dropout(0.5))\n",
    "model.add(layers.Flatten())\n",
    "#model.add(layers.Dense(512, activation='relu'))\n",
    "#model.add(layers.Dense(256, activation='relu'))\n",
    "model.add(layers.Dense(128, activation='relu'))\n",
    "model.add(layers.Dense(64, activation='relu'))\n",
    "model.add(layers.Dense(32, activation='relu'))\n",
    "model.add(layers.Dense(12, activation='relu'))\n",
    "\n",
    "model.summary()"
   ]
  },
  {
   "cell_type": "code",
   "execution_count": 7,
   "metadata": {},
   "outputs": [],
   "source": [
    "# Compiling the model\n",
    "model.compile(optimizer='adam',\n",
    "             loss=tf.keras.losses.SparseCategoricalCrossentropy(from_logits=True),\n",
    "             metrics=['accuracy'])"
   ]
  },
  {
   "cell_type": "code",
   "execution_count": 8,
   "metadata": {},
   "outputs": [
    {
     "name": "stdout",
     "output_type": "stream",
     "text": [
      "3162/3162 - 2s - loss: 2.4897 - accuracy: 0.0085\n"
     ]
    }
   ],
   "source": [
    "test_loss,test_acc = model.evaluate(test_data, test_labels, verbose=2)"
   ]
  },
  {
   "cell_type": "code",
   "execution_count": 9,
   "metadata": {},
   "outputs": [
    {
     "name": "stdout",
     "output_type": "stream",
     "text": [
      "Test label: STANDING\n",
      "Predicted label:LIE_TO_STAND\n",
      "false\n",
      "\n",
      "Test label: STANDING\n",
      "Predicted label:LIE_TO_STAND\n",
      "false\n",
      "\n",
      "Test label: STANDING\n",
      "Predicted label:LIE_TO_STAND\n",
      "false\n",
      "\n",
      "Test label: STANDING\n",
      "Predicted label:LIE_TO_STAND\n",
      "false\n",
      "\n",
      "Test label: STANDING\n",
      "Predicted label:LIE_TO_STAND\n",
      "false\n",
      "\n",
      "Test label: STANDING\n",
      "Predicted label:LIE_TO_STAND\n",
      "false\n",
      "\n",
      "Test label: STANDING\n",
      "Predicted label:LIE_TO_STAND\n",
      "false\n",
      "\n",
      "Test label: STANDING\n",
      "Predicted label:LIE_TO_STAND\n",
      "false\n",
      "\n",
      "Test label: STANDING\n",
      "Predicted label:LIE_TO_STAND\n",
      "false\n",
      "\n",
      "Test label: STANDING\n",
      "Predicted label:LIE_TO_STAND\n",
      "false\n",
      "\n",
      "Test label: STANDING\n",
      "Predicted label:LIE_TO_STAND\n",
      "false\n",
      "\n",
      "Test label: STANDING\n",
      "Predicted label:LIE_TO_STAND\n",
      "false\n",
      "\n",
      "Test label: STANDING\n",
      "Predicted label:LIE_TO_STAND\n",
      "false\n",
      "\n",
      "Test label: STANDING\n",
      "Predicted label:LIE_TO_STAND\n",
      "false\n",
      "\n",
      "Test label: STANDING\n",
      "Predicted label:LIE_TO_STAND\n",
      "false\n",
      "\n",
      "Test label: STANDING\n",
      "Predicted label:LIE_TO_STAND\n",
      "false\n",
      "\n",
      "Test label: STAND_TO_SIT\n",
      "Predicted label:LIE_TO_STAND\n",
      "false\n",
      "\n",
      "Test label: SITTING\n",
      "Predicted label:LIE_TO_STAND\n",
      "false\n",
      "\n",
      "Test label: SITTING\n",
      "Predicted label:LIE_TO_STAND\n",
      "false\n",
      "\n",
      "Test label: SITTING\n",
      "Predicted label:LIE_TO_STAND\n",
      "false\n",
      "\n",
      "Test label: SITTING\n",
      "Predicted label:LIE_TO_STAND\n",
      "false\n",
      "\n",
      "Test label: SITTING\n",
      "Predicted label:LIE_TO_STAND\n",
      "false\n",
      "\n",
      "Test label: SITTING\n",
      "Predicted label:LIE_TO_STAND\n",
      "false\n",
      "\n",
      "Test label: SITTING\n",
      "Predicted label:LIE_TO_STAND\n",
      "false\n",
      "\n",
      "Test label: SITTING\n",
      "Predicted label:LIE_TO_STAND\n",
      "false\n",
      "\n",
      "False predictions:25\n",
      "True predictions:0\n",
      "Prediction accuraccy for first 25 values: 0.0\n"
     ]
    }
   ],
   "source": [
    "pred_outs = model.predict_classes(test_data)\n",
    "\n",
    "#test if the label matches the prediction\n",
    "false_pred = 0\n",
    "true_pred = 0\n",
    "#look at predictions for the first 25 values\n",
    "pred_range = 25\n",
    "for i in range(pred_range):\n",
    "    if not (0 <= pred_outs[i] or pred_outs[i] <= 11):\n",
    "        print('prediction out of bounds')\n",
    "        break\n",
    "        \n",
    "    print(f'Test label: {activity_labels[test_labels[i][0]]}')\n",
    "    print(f'Predicted label:{activity_labels[pred_outs[i]]}')\n",
    "    \n",
    "    if pred_outs[i]==test_labels[i][0]:\n",
    "        print('true\\n')\n",
    "        true_pred += 1\n",
    "    else:\n",
    "        print('false\\n')\n",
    "        false_pred += 1\n",
    "print(f'False predictions:{false_pred}')\n",
    "print(f'True predictions:{true_pred}')\n",
    "print(f'Prediction accuraccy for first 25 values: {true_pred/pred_range}')"
   ]
  },
  {
   "cell_type": "code",
   "execution_count": 10,
   "metadata": {},
   "outputs": [
    {
     "name": "stdout",
     "output_type": "stream",
     "text": [
      "Train on 7767 samples, validate on 3162 samples\n",
      "Epoch 1/15\n",
      "7767/7767 [==============================] - 4s 505us/sample - loss: 1.3218 - accuracy: 0.5055 - val_loss: 1.0592 - val_accuracy: 0.5825\n",
      "Epoch 2/15\n",
      "7767/7767 [==============================] - 3s 418us/sample - loss: 1.0529 - accuracy: 0.5867 - val_loss: 1.0654 - val_accuracy: 0.5813\n",
      "Epoch 3/15\n",
      "7767/7767 [==============================] - 3s 406us/sample - loss: 1.0268 - accuracy: 0.5921 - val_loss: 1.0316 - val_accuracy: 0.5904\n",
      "Epoch 4/15\n",
      "7767/7767 [==============================] - 3s 391us/sample - loss: 1.0104 - accuracy: 0.5986 - val_loss: 1.0228 - val_accuracy: 0.5914\n",
      "Epoch 5/15\n",
      "7767/7767 [==============================] - 3s 394us/sample - loss: 1.0112 - accuracy: 0.5974 - val_loss: 1.0741 - val_accuracy: 0.5781\n",
      "Epoch 6/15\n",
      "7767/7767 [==============================] - 3s 425us/sample - loss: 1.0037 - accuracy: 0.6000 - val_loss: 1.0276 - val_accuracy: 0.5917\n",
      "Epoch 7/15\n",
      "7767/7767 [==============================] - 3s 429us/sample - loss: 0.9980 - accuracy: 0.6007 - val_loss: 1.0724 - val_accuracy: 0.5841\n",
      "Epoch 8/15\n",
      "7767/7767 [==============================] - 3s 423us/sample - loss: 0.9970 - accuracy: 0.6011 - val_loss: 1.0601 - val_accuracy: 0.5835\n",
      "Epoch 9/15\n",
      "7767/7767 [==============================] - 3s 436us/sample - loss: 0.9998 - accuracy: 0.6005 - val_loss: 1.0371 - val_accuracy: 0.5895\n",
      "Epoch 10/15\n",
      "7767/7767 [==============================] - 3s 424us/sample - loss: 0.9975 - accuracy: 0.6006 - val_loss: 1.0439 - val_accuracy: 0.5879\n",
      "Epoch 11/15\n",
      "7767/7767 [==============================] - 3s 430us/sample - loss: 0.9900 - accuracy: 0.6029 - val_loss: 1.0698 - val_accuracy: 0.5829\n",
      "Epoch 12/15\n",
      "7767/7767 [==============================] - 7s 929us/sample - loss: 0.9893 - accuracy: 0.6029 - val_loss: 1.0483 - val_accuracy: 0.5895\n",
      "Epoch 13/15\n",
      "7767/7767 [==============================] - 3s 379us/sample - loss: 0.8909 - accuracy: 0.6728 - val_loss: 0.7265 - val_accuracy: 0.7622\n",
      "Epoch 14/15\n",
      "7767/7767 [==============================] - 3s 395us/sample - loss: 0.6254 - accuracy: 0.7843 - val_loss: 0.7653 - val_accuracy: 0.7511\n",
      "Epoch 15/15\n",
      "7767/7767 [==============================] - 3s 398us/sample - loss: 0.6003 - accuracy: 0.7834 - val_loss: 0.7040 - val_accuracy: 0.7638\n",
      "3162/3162 - 0s - loss: 0.7040 - accuracy: 0.7638\n"
     ]
    }
   ],
   "source": [
    "#get time of epochs to record training time\n",
    "#https://stackoverflow.com/questions/43178668/record-the-computation-time-for-each-epoch-in-keras-during-model-fit\n",
    "class TimeHistory(callbacks.Callback):\n",
    "    def on_train_begin(self, logs={}):\n",
    "        self.times = []\n",
    "\n",
    "    def on_epoch_begin(self, epoch, logs={}):\n",
    "        self.epoch_time_start = time.time()\n",
    "\n",
    "    def on_epoch_end(self, epoch, logs={}):\n",
    "        self.times.append(time.time() - self.epoch_time_start)\n",
    "        \n",
    "time_callback = TimeHistory()\n",
    "\n",
    "#train the model\n",
    "model.fit(train_data, \n",
    "          train_labels, \n",
    "          epochs=15, \n",
    "          validation_data=(test_data, test_labels),\n",
    "         callbacks=[time_callback])\n",
    "\n",
    "test_loss,test_acc = model.evaluate( test_data, test_labels, verbose=2)\n"
   ]
  },
  {
   "cell_type": "code",
   "execution_count": 11,
   "metadata": {},
   "outputs": [
    {
     "name": "stdout",
     "output_type": "stream",
     "text": [
      "Total training time: 52s 669ms 1us\n"
     ]
    }
   ],
   "source": [
    "training_time = sum(time_callback.times)\n",
    "print(f\"Total training time: {math.floor(training_time/1)}s {math.floor(training_time%1 * 1000)}ms {math.ceil(training_time%(1/1000)*1000)}us\")"
   ]
  },
  {
   "cell_type": "code",
   "execution_count": null,
   "metadata": {},
   "outputs": [],
   "source": []
  }
 ],
 "metadata": {
  "kernelspec": {
   "display_name": "Python3 (tensorflow)",
   "language": "python",
   "name": "tensorflow"
  },
  "language_info": {
   "codemirror_mode": {
    "name": "ipython",
    "version": 3
   },
   "file_extension": ".py",
   "mimetype": "text/x-python",
   "name": "python",
   "nbconvert_exporter": "python",
   "pygments_lexer": "ipython3",
   "version": "3.7.9"
  }
 },
 "nbformat": 4,
 "nbformat_minor": 4
}
